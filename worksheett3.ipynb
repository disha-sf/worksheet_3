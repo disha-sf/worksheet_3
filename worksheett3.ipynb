{
 "cells": [
  {
   "cell_type": "code",
   "execution_count": 3,
   "id": "b47ac5d1-11bb-40fd-a2da-e1cee705bbc1",
   "metadata": {},
   "outputs": [
    {
     "name": "stdin",
     "output_type": "stream",
     "text": [
      "Enter a number:  20\n"
     ]
    },
    {
     "name": "stdout",
     "output_type": "stream",
     "text": [
      "Result: 6\n"
     ]
    }
   ],
   "source": [
    "def calculate_difference(number):\n",
    "    if number > 17:\n",
    "        return 2 * abs(number - 17)\n",
    "    else:\n",
    "        return abs(number - 17)\n",
    "\n",
    "# Example usage\n",
    "num = int(input(\"Enter a number: \"))\n",
    "print(\"Result:\", calculate_difference(num))\n"
   ]
  },
  {
   "cell_type": "code",
   "execution_count": 4,
   "id": "c0f34fe9-33d9-4f5b-b391-ed6183b37e7e",
   "metadata": {},
   "outputs": [
    {
     "name": "stdin",
     "output_type": "stream",
     "text": [
      "Enter a number:  200\n"
     ]
    },
    {
     "name": "stdout",
     "output_type": "stream",
     "text": [
      "Is within range: True\n"
     ]
    }
   ],
   "source": [
    "def is_within_range(number):\n",
    "    return 100 <= number <= 1000 or number == 2000\n",
    "\n",
    "# Example usage\n",
    "num = int(input(\"Enter a number: \"))\n",
    "print(\"Is within range:\", is_within_range(num))\n"
   ]
  },
  {
   "cell_type": "code",
   "execution_count": 5,
   "id": "99cb67b6-683e-49a1-acc4-9bb89ccd5131",
   "metadata": {},
   "outputs": [
    {
     "name": "stdin",
     "output_type": "stream",
     "text": [
      "Enter a string:  Disha\n"
     ]
    },
    {
     "name": "stdout",
     "output_type": "stream",
     "text": [
      "Reversed string: ahsiD\n"
     ]
    }
   ],
   "source": [
    "def reverse_string(s):\n",
    "    return s[::-1]\n",
    "\n",
    "# Example usage\n",
    "string = input(\"Enter a string: \")\n",
    "print(\"Reversed string:\", reverse_string(string))\n"
   ]
  },
  {
   "cell_type": "code",
   "execution_count": 6,
   "id": "af847dd8-4317-4a46-92a1-6d4c70f13d46",
   "metadata": {},
   "outputs": [
    {
     "name": "stdin",
     "output_type": "stream",
     "text": [
      "Enter a string:  DishaaA\n"
     ]
    },
    {
     "name": "stdout",
     "output_type": "stream",
     "text": [
      "Upper case letters: 2\n",
      "Lower case letters: 5\n"
     ]
    }
   ],
   "source": [
    "def count_case_letters(s):\n",
    "    upper_count = sum(1 for c in s if c.isupper())\n",
    "    lower_count = sum(1 for c in s if c.islower())\n",
    "    return upper_count, lower_count\n",
    "\n",
    "# Example usage\n",
    "string = input(\"Enter a string: \")\n",
    "upper, lower = count_case_letters(string)\n",
    "print(\"Upper case letters:\", upper)\n",
    "print(\"Lower case letters:\", lower)\n"
   ]
  },
  {
   "cell_type": "code",
   "execution_count": 7,
   "id": "2d09977b-8870-4222-9cf0-b3b7900ec8fe",
   "metadata": {},
   "outputs": [
    {
     "name": "stdout",
     "output_type": "stream",
     "text": [
      "Distinct elements: [1, 2, 3, 4, 5]\n"
     ]
    }
   ],
   "source": [
    "def distinct_elements(lst):\n",
    "    return list(set(lst))\n",
    "\n",
    "# Example usage\n",
    "lst = [1, 2, 2, 3, 4, 4, 5]\n",
    "print(\"Distinct elements:\", distinct_elements(lst))\n"
   ]
  },
  {
   "cell_type": "code",
   "execution_count": 8,
   "id": "cd98c711-8da4-4143-96ad-1a7e6a8f9394",
   "metadata": {},
   "outputs": [
    {
     "name": "stdout",
     "output_type": "stream",
     "text": [
      "Even numbers: [2, 4, 6, 8]\n"
     ]
    }
   ],
   "source": [
    "def print_even_numbers(lst):\n",
    "    even_numbers = [num for num in lst if num % 2 == 0]\n",
    "    print(\"Even numbers:\", even_numbers)\n",
    "\n",
    "# Example usage\n",
    "lst = [1, 2, 3, 4, 5, 6, 7, 8, 9]\n",
    "print_even_numbers(lst)\n"
   ]
  },
  {
   "cell_type": "code",
   "execution_count": 9,
   "id": "da89e6a1-65c0-4eda-8220-334880660a24",
   "metadata": {},
   "outputs": [
    {
     "name": "stdout",
     "output_type": "stream",
     "text": [
      "Function argument names: ('name', 'age', 'grade')\n"
     ]
    }
   ],
   "source": [
    "def student(name, age, grade):\n",
    "    pass\n",
    "\n",
    "# Access function arguments using the `__code__.co_varnames` attribute\n",
    "print(\"Function argument names:\", student.__code__.co_varnames)\n"
   ]
  },
  {
   "cell_type": "code",
   "execution_count": 10,
   "id": "bd958fe4-76b6-4ae8-aa3e-2a680b0c6b7c",
   "metadata": {},
   "outputs": [
    {
     "name": "stdout",
     "output_type": "stream",
     "text": [
      "Function argument names: ('name', 'age', 'grade')\n"
     ]
    }
   ],
   "source": [
    "def student(name, age, grade):\n",
    "    pass\n",
    "\n",
    "# Access the names of all arguments of the `student` function using `__code__.co_varnames`\n",
    "argument_names = student.__code__.co_varnames[:student.__code__.co_argcount]\n",
    "\n",
    "# Display the argument names\n",
    "print(\"Function argument names:\", argument_names)\n"
   ]
  },
  {
   "cell_type": "code",
   "execution_count": 11,
   "id": "e1cdfc66-9b2b-4557-afd5-433174b69a31",
   "metadata": {},
   "outputs": [
    {
     "name": "stdout",
     "output_type": "stream",
     "text": [
      "Hello from inner function!\n"
     ]
    }
   ],
   "source": [
    "def outer_function():\n",
    "    def inner_function():\n",
    "        return \"Hello from inner function!\"\n",
    "    \n",
    "    result = inner_function()\n",
    "    print(result)\n",
    "\n",
    "# Example usage\n",
    "outer_function()\n"
   ]
  },
  {
   "cell_type": "code",
   "execution_count": 12,
   "id": "ea8b01f4-2fad-4727-829a-da9116d8e78b",
   "metadata": {},
   "outputs": [
    {
     "name": "stdout",
     "output_type": "stream",
     "text": [
      "student_id: 1\n",
      "student_name: John Doe\n",
      "student_class: 10th Grade\n"
     ]
    }
   ],
   "source": [
    "class Student:\n",
    "    def __init__(self, student_id, student_name):\n",
    "        self.student_id = student_id\n",
    "        self.student_name = student_name\n",
    "        self.student_class = None  # Add a new attribute: student_class\n",
    "\n",
    "    def display_attributes(self):\n",
    "        # Display all attributes and their values\n",
    "        attributes = vars(self)\n",
    "        for attribute, value in attributes.items():\n",
    "            print(f\"{attribute}: {value}\")\n",
    "\n",
    "\n",
    "# Create a Student object\n",
    "student1 = Student(1, \"John Doe\")\n",
    "student1.student_class = \"10th Grade\"\n",
    "student1.display_attributes()\n"
   ]
  },
  {
   "cell_type": "code",
   "execution_count": 13,
   "id": "c1a9d56e-cec8-47b8-b114-e7e446427b4f",
   "metadata": {},
   "outputs": [
    {
     "name": "stdout",
     "output_type": "stream",
     "text": [
      "Student 1:\n",
      "student_id: 1\n",
      "student_name: Alice\n",
      "\n",
      "Student 2:\n",
      "student_id: 2\n",
      "student_name: Bob\n"
     ]
    }
   ],
   "source": [
    "class Student:\n",
    "    def __init__(self, student_id, student_name):\n",
    "        self.student_id = student_id\n",
    "        self.student_name = student_name\n",
    "\n",
    "# Create two instances of the Student class\n",
    "student1 = Student(1, \"Alice\")\n",
    "student2 = Student(2, \"Bob\")\n",
    "\n",
    "# Print all attributes of both instances\n",
    "print(\"Student 1:\")\n",
    "for attribute, value in vars(student1).items():\n",
    "    print(f\"{attribute}: {value}\")\n",
    "\n",
    "print(\"\\nStudent 2:\")\n",
    "for attribute, value in vars(student2).items():\n",
    "    print(f\"{attribute}: {value}\")\n"
   ]
  },
  {
   "cell_type": "code",
   "execution_count": 14,
   "id": "e52a6802-c168-4e3d-b6b8-b7742534ca66",
   "metadata": {},
   "outputs": [
    {
     "name": "stdout",
     "output_type": "stream",
     "text": [
      "Area: 78.53981633974483\n",
      "Perimeter: 31.41592653589793\n"
     ]
    }
   ],
   "source": [
    "import math\n",
    "\n",
    "class Circle:\n",
    "    def __init__(self, radius):\n",
    "        self.radius = radius\n",
    "\n",
    "    def area(self):\n",
    "        # Compute the area of the circle\n",
    "        return math.pi * self.radius ** 2\n",
    "\n",
    "    def perimeter(self):\n",
    "        # Compute the perimeter (circumference) of the circle\n",
    "        return 2 * math.pi * self.radius\n",
    "\n",
    "# Example usage:\n",
    "circle = Circle(5)\n",
    "print(\"Area:\", circle.area())\n",
    "print(\"Perimeter:\", circle.perimeter())\n"
   ]
  },
  {
   "cell_type": "code",
   "execution_count": 15,
   "id": "fe9dca74-77c2-46cd-a53e-7d8f074dad30",
   "metadata": {},
   "outputs": [
    {
     "name": "stdin",
     "output_type": "stream",
     "text": [
      "Enter a string:  DDishaAA\n"
     ]
    },
    {
     "name": "stdout",
     "output_type": "stream",
     "text": [
      "DDISHAAA\n"
     ]
    }
   ],
   "source": [
    "class StringManipulator:\n",
    "    def __init__(self):\n",
    "        self.user_string = \"\"\n",
    "\n",
    "    def get_String(self):\n",
    "        # Accept a string from the user\n",
    "        self.user_string = input(\"Enter a string: \")\n",
    "\n",
    "    def print_String(self):\n",
    "        # Print the string in upper case\n",
    "        print(self.user_string.upper())\n",
    "\n",
    "# Example usage:\n",
    "string_manipulator = StringManipulator()\n",
    "string_manipulator.get_String()\n",
    "string_manipulator.print_String()\n"
   ]
  },
  {
   "cell_type": "code",
   "execution_count": null,
   "id": "7d88c5a3-98a9-4228-bf3e-a605aa9b7074",
   "metadata": {},
   "outputs": [],
   "source": []
  }
 ],
 "metadata": {
  "kernelspec": {
   "display_name": "Python 3 (ipykernel)",
   "language": "python",
   "name": "python3"
  },
  "language_info": {
   "codemirror_mode": {
    "name": "ipython",
    "version": 3
   },
   "file_extension": ".py",
   "mimetype": "text/x-python",
   "name": "python",
   "nbconvert_exporter": "python",
   "pygments_lexer": "ipython3",
   "version": "3.12.4"
  }
 },
 "nbformat": 4,
 "nbformat_minor": 5
}
